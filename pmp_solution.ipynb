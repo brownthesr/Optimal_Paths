{
 "cells": [
  {
   "cell_type": "code",
   "execution_count": 1,
   "metadata": {},
   "outputs": [],
   "source": [
    "import numpy as np\n",
    "import sympy as sp\n",
    "from sympy.utilities.lambdify import lambdify\n",
    "from scipy.integrate import solve_bvp, solve_ivp\n",
    "import matplotlib.animation as animation\n",
    "import matplotlib.pyplot as plt\n",
    "from scipy.optimize import root"
   ]
  },
  {
   "cell_type": "markdown",
   "metadata": {},
   "source": [
    "# Auxillary Video Generation Code"
   ]
  },
  {
   "cell_type": "code",
   "execution_count": 7,
   "metadata": {},
   "outputs": [],
   "source": [
    "def make_video(t_solution, y_solution, D=2, S=1, name=\"dogs_sheep_animation\"):\n",
    "    ts = t_solution\n",
    "    num_agents = D + S\n",
    "    \n",
    "    # Split y_solution into positions and velocities\n",
    "    positions = y_solution[:4 * num_agents]\n",
    "    \n",
    "    # Extract x and y coordinates\n",
    "    x_coords = positions[::4]  # Every 4th element starting at index 0\n",
    "    y_coords = positions[1::4]  # Every 4th element starting at index 1\n",
    "    \n",
    "    # Create figure and axis\n",
    "    fig, ax = plt.subplots(figsize=(6, 6))\n",
    "    ax.set_xlim(min([np.min(x) for x in x_coords]) - 1, max([np.max(x) for x in x_coords]) + 1)\n",
    "    ax.set_ylim(min([np.min(y) for y in y_coords]) - 1, max([np.max(y) for y in y_coords]) + 1)\n",
    "    ax.set_xlabel('X')\n",
    "    ax.set_ylabel('Y')\n",
    "    ax.set_title('Animation of State Evolution')\n",
    "    \n",
    "    # Assign colors: Green for dogs, Red for sheep\n",
    "    colors = ['g'] * D + ['r'] * S\n",
    "    markers = ['o'] * num_agents\n",
    "    \n",
    "    # Initialize points and trails\n",
    "    points = [ax.plot([], [], color + markers[i], markersize=8)[0] for i, color in enumerate(colors)]\n",
    "    trails = [ax.plot([], [], color + '-', alpha=0.5)[0] for color in colors]\n",
    "    \n",
    "    # Lists to store trail paths\n",
    "    trail_x, trail_y = [[] for _ in range(num_agents)], [[] for _ in range(num_agents)]\n",
    "    \n",
    "    # Add a marker at the origin and legend\n",
    "    ax.plot(0, 0, 'kX', markersize=5)\n",
    "    ax.grid(True)\n",
    "    ax.legend([points[i] for i in range(num_agents)], [f'Agent {i+1}' for i in range(num_agents)])\n",
    "    \n",
    "    # Update function for animation\n",
    "    def update(frame):\n",
    "        for i in range(num_agents):\n",
    "            points[i].set_data([x_coords[i][frame]], [y_coords[i][frame]])\n",
    "            trail_x[i].append(x_coords[i][frame])\n",
    "            trail_y[i].append(y_coords[i][frame])\n",
    "            trails[i].set_data(trail_x[i], trail_y[i])\n",
    "        return points + trails\n",
    "    \n",
    "    # Create animation\n",
    "    ani = animation.FuncAnimation(fig, update, frames=len(ts), interval=50, blit=True)\n",
    "    ani.save(name + '.mp4', writer='ffmpeg', fps=30)\n",
    "    \n",
    "    print(f\"Video saved at {name}.mp4\")\n",
    "    plt.show()"
   ]
  },
  {
   "cell_type": "markdown",
   "metadata": {},
   "source": [
    "# Derivation of Costate and Optimal Control"
   ]
  },
  {
   "cell_type": "markdown",
   "metadata": {},
   "source": [
    "## Simplified 2 Dog 1 sheep Derivation"
   ]
  },
  {
   "cell_type": "markdown",
   "metadata": {},
   "source": [
    "Consider a problem where we have just 2 dogs and one sheep. Let $(x_{d_i},y_{d_i})$ be the position of the ith dog and $(v_{x_{d_i}},v_{y_{d_i}})$ be the velocity vector of the ith dog. Also, let $(u_1,u_2)$ be the acceleration (control) of the first and $(u_3,u_4)$ the acceleration (control) of the second. \n",
    "\n",
    "Thus, we have the state evolution equation $\\frac{d}{dt}\\begin{bmatrix}x_{d_1}\\\\y_{d_1}\\\\v_{x_{d_1}}\\\\v_{y_{d_1}}\\\\x_{d_2}\\\\y_{d_2}\\\\v_{x_{d_2}}\\\\v_{y_{d_2}}\\\\x_{s_1}\\\\y_{s_1}\\\\v_{x_{s_1}}\\\\v_{y_{s_1}}\\end{bmatrix}=\\begin{bmatrix}v_{x_{d_1}}\\\\v_{y_{d_1}}\\\\u_1\\\\u_2\\\\v_{x_{d_2}}\\\\v_{y_{d_2}}\\\\u_3\\\\u_4\\\\v_{x_{s_1}}\\\\v_{y_{s_1}}\\\\a \\\\ b\n",
    "\\end{bmatrix}$ where $a=\\frac{x_{s_1}-x_{d_1}}{[(x_{s_1}-x_{d_1})^2+(y_{s_1}-y_{d_1})^2]^{\\lambda/2}}+\\frac{x_{s_1}-x_{d_2}}{[(x_{s_1}-x_{d_2})^2+(y_{s_1}-y_{d_2})^2]^{\\lambda/2}}$ and $b=\\frac{y_{s_1}-y_{d_1}}{[(x_{s_1}-x_{d_1})^2+(y_{s_1}-y_{d_1})^2]^{\\lambda/2}}+\\frac{y_{s_1}-y_{d_2}}{[(x_{s_1}-x_{d_2})^2+(y_{s_1}-y_{d_2})^2]^{\\lambda/2}}$. \n",
    "\n",
    "We originally had the cost functional $J[u]=\\int_0^{t_f}[\\alpha (x_{s_1}^2+y_{s_1}^2)+u_1^2+u_2^2+u_3^2+u_4^2]dt$. However, upon further testing, the dogs went off far in all directions. So, to keep them close to the center as well, we let $J[u]=\\int_0^{t_f}[\\alpha (x_{s_1}^2+y_{s_1}^2) +\\beta(x_{d_1}^2+y_{d_1}^2+x_{d_2}^2+y_{d_2}^2) +u_1^2+u_2^2+u_3^2+u_4^2]dt$\n",
    "\n",
    "Putting this altogether, gives the Hamiltonian $H=p\\cdot f-L=p_1v_{x_{d_1}}+p_2v_{y_{d_1}}+p_3u_1+p_4u_2+p_5v_{x_{d_2}}+p_6v_{y_{d_2}}+p_7u_3+p_8u_4+p_9v_{x_{s_1}}+p_{10}v_{y_{s_1}}+p_{11}a+p_{12}b-\\alpha x_{s_1}^2-\\alpha y_{s_1}^2-\\beta x_{d_1}^2-\\beta y_{d_1}^2- \\beta x_{d_2}^2- \\beta y_{d_2}^2-u_1^2-u_2^2-u_3^2-u_4^2$\n",
    "\n",
    "This gives the co-state evolution equation $p'=-\\frac{DH}{Dx}=-\\begin{bmatrix}p_{11}\\frac{da}{dx_{d_1}}+p_{12}\\frac{db}{dx_{d_1}}-2\\beta x_{d_1}\\\\ p_{11}\\frac{da}{dy_{d_1}}+p_{12}\\frac{db}{dy_{d_1}}- 2\\beta y_{d_1}\\\\p_1\\\\p_2\\\\p_{11}\\frac{da}{dx_{d_2}}+p_{12}\\frac{db}{dx_{d_2}} - 2\\beta x_{d_2}\\\\p_{11}\\frac{da}{dy_{d_2}}+p_{12}\\frac{db}{dy_{d_2}} - 2\\beta y_{d_2}\\\\p_5\\\\p_6\\\\p_{11}\\frac{da}{dx_{s_1}}+p_{12}\\frac{db}{dx_{s_1}}-2\\alpha x_{s_1}\\\\p_{11}\\frac{da}{dy_{s_1}}+p_{12}\\frac{db}{dy_{s_1}}-2\\alpha y_{s_1}\\\\p_9\\\\p_{10}\\end{bmatrix}$. To keep things clean, we avoid computing the derivatives of $a$ and $b$. It will suffices to use Sympy to compute the derivatives."
   ]
  },
  {
   "cell_type": "code",
   "execution_count": 3,
   "metadata": {},
   "outputs": [],
   "source": [
    "# Define variables\n",
    "xd1, yd1, vxd1, vyd1, \\\n",
    "xd2, yd2, vxd2, vyd2, \\\n",
    "xs1, ys1, vxs1, vys1 = \\\n",
    "sp.symbols('x_d1 y_d1 v_xd1 v_yd1 x_d2 y_d2 v_xd2 v_yd2 x_s1 y_s1 v_xs1 v_ys1')\n",
    "p1, p2, p3, p4, p5, p6, p7, p8, p9, p10, p11, p12 = sp.symbols('p1 p2 p3 p4 p5 p6 p7 p8 p9 p10 p11 p12')\n",
    "u1, u2, u3, u4 = sp.symbols('u1 u2 u3 u4')\n",
    "lambd, alpha, beta = 3, 30, 2\n",
    "epsilon = 1e-3  # Small constant to prevent division by zero\n",
    "\n",
    "# Define squared distances\n",
    "r1_sq = (xs1 - xd1)**2 + (ys1 - yd1)**2 + epsilon\n",
    "r2_sq = (xs1 - xd2)**2 + (ys1 - yd2)**2 + epsilon\n",
    "\n",
    "# Define a and b\n",
    "a_left = (xs1 - xd1) / (r1_sq**(lambd / 2))\n",
    "a_right = (xs1 - xd2) / (r2_sq**(lambd / 2))\n",
    "a = a_left + a_right\n",
    "b_left = (ys1 - yd1) / (r1_sq**(lambd / 2))\n",
    "b_right = (ys1 - yd2) / (r2_sq**(lambd / 2))\n",
    "b = b_left + b_right\n",
    "\n",
    "# Define the Hamiltonian\n",
    "L = alpha*xs1**2 + alpha*ys1**2 + u1**2 + u2**2 + u3**2 + u4**2\n",
    "L += beta*xd1**2 + beta*yd1**2 + beta*xd2**2 + beta*yd2**2  # Penalize dogs from being too far from the origin\n",
    "H = p1*vxd1 + p2*vyd1 + p3*u1 + p4*u2 + p5*vxd2 + p6*vyd2 + p7*u3 + p8*u4 + p9*vxs1 + p10*vys1 + p11*a + p12*b - L\n",
    "    \n",
    "# Define state and costate vectors\n",
    "state_vars = [xd1, yd1, vxd1, vyd1, xd2, yd2, vxd2, vyd2, xs1, ys1, vxs1, vys1]\n",
    "costate_vars = [p1, p2, p3, p4, p5, p6, p7, p8, p9, p10, p11, p12]\n",
    "\n",
    "# Compute and simplify state and costate equations\n",
    "dx_dt = [sp.simplify(sp.diff(H, p)) for p in costate_vars]\n",
    "dp_dt = [sp.simplify(-sp.diff(H, x)) for x in state_vars]\n",
    "\n",
    "# Compute optimal control\n",
    "control_eqs = [sp.simplify(sp.diff(H, u)) for u in [u1, u2, u3, u4]]\n",
    "optimal_controls = sp.solve(control_eqs, [u1, u2, u3, u4])\n",
    "\n",
    "# Write state and cos-state equation in terms of each other\n",
    "dx_dt_opt = [expr.subs(optimal_controls) for expr in dx_dt]\n",
    "dp_dt_opt = [expr.subs(optimal_controls) for expr in dp_dt]\n",
    "\n",
    "# Create a function for dx/dt and dp/dt\n",
    "dx_dt_func = lambdify(state_vars + costate_vars, dx_dt_opt, 'numpy')\n",
    "dp_dt_func = lambdify(state_vars + costate_vars, dp_dt_opt, 'numpy')"
   ]
  },
  {
   "cell_type": "code",
   "execution_count": 4,
   "metadata": {},
   "outputs": [
    {
     "name": "stdout",
     "output_type": "stream",
     "text": [
      "False\n"
     ]
    }
   ],
   "source": [
    "import sys\n",
    "def ode(t, y):    \n",
    "    state = y[:12]\n",
    "    costate = y[12:]\n",
    "    \n",
    "    # Compute derivatives\n",
    "    dx_dt_values = np.array(dx_dt_func(*state, *costate))\n",
    "    dp_dt_values = np.array(dp_dt_func(*state, *costate))\n",
    "\n",
    "    return np.concatenate([dx_dt_values, dp_dt_values])\n",
    "\n",
    "def bc(y0, yT):\n",
    "    # Initial conditions on states\n",
    "    x0 = np.array([1, 1, 2, 3, -1, -1, -3, 4, 0, 2, 0, 0])\n",
    "    state_initial = y0[:12] - x0  # x(0) = x0\n",
    "    # Final conditions on costates\n",
    "    costate_final = yT[12:]       # p(T) = 0\n",
    "    \n",
    "    return np.concatenate([state_initial, costate_final])\n",
    "\n",
    "# Time discretization\n",
    "tf = 10.0  # Total time\n",
    "num_points = 500  # Number of points in the grid\n",
    "t = np.linspace(0, tf, num_points)\n",
    "\n",
    "# Initial guess (random or based on heuristics)\n",
    "y_guess = .5*np.ones((24, num_points))  # 12 state + 12 costate variables\n",
    "\n",
    "# Solve BVP\n",
    "solution = solve_bvp(ode, bc, t, y_guess)\n",
    "\n",
    "# Extract solution\n",
    "t_solution = solution.x\n",
    "y_solution = solution.y\n",
    "print(solution.success)"
   ]
  },
  {
   "cell_type": "code",
   "execution_count": 10,
   "metadata": {},
   "outputs": [
    {
     "name": "stdout",
     "output_type": "stream",
     "text": [
      "Video saved at 2dogs1sheep.mp4\n"
     ]
    },
    {
     "data": {
      "image/png": "[encoded data removed]",
      "text/plain": [
       "<Figure size 600x600 with 1 Axes>"
      ]
     },
     "metadata": {},
     "output_type": "display_data"
    }
   ],
   "source": [
    "make_video(t_solution, y_solution, name=\"2dogs1sheep\")"
   ]
  },
  {
   "cell_type": "markdown",
   "metadata": {},
   "source": [
    "## Generalizing to arbitrary number of Dogs and Sheep"
   ]
  },
  {
   "cell_type": "markdown",
   "metadata": {},
   "source": [
    "To do this is not too difficult, one just needs to keep track of the subscripts very carefully. Note that the differential equation for the $k^{\\text{th}}$ dog is given by:\n",
    "$$\\begin{align}\n",
    "\\begin{bmatrix}\n",
    "x_{d_k}\\\\\n",
    "y_{d_k}\\\\\n",
    "v_{x_{d_k}}\\\\\n",
    "v_{y_{d_k}}\n",
    "\\end{bmatrix}'=\\begin{bmatrix}\n",
    "v_{x_{d_k}}\\\\\n",
    "v_{y_{d_k}}\\\\\n",
    "u_{x_{d_k}}\\\\\n",
    "u_{y_{d_k}}\n",
    "\\end{bmatrix}\n",
    "\\end{align}$$\n",
    "and the differential equation for the $i^{\\text{th}}$ sheep is given by:\n",
    "$$\\begin{align}\n",
    "\\begin{bmatrix}\n",
    "x_{s_i}\\\\\n",
    "y_{s_i}\\\\\n",
    "v_{x_{s_i}}\\\\\n",
    "v_{y_{s_i}}\n",
    "\\end{bmatrix}'=\\begin{bmatrix}\n",
    "v_{x_{s_i}}\\\\\n",
    "v_{y_{s_i}}\\\\\n",
    "a(s_i)\\\\\n",
    "b(s_i)\n",
    "\\end{bmatrix}\\\\\n",
    "a(s_i)=\\sum\\limits_{d_k}^{}\\left(\\frac{x_{s_i}-x_{d_k}}{((x_{s_i}-x_{d_k})^2+(y_{s_i}-y_{d_k})^2)^{\\frac{\\lambda }{2}}}\\right)\\\\\n",
    "=\\sum\\limits_{d_k}^{}a_P(s_i,d_k)\\\\\n",
    "b(s_i)=\\sum\\limits_{d_k}^{}\\left(\\frac{y_{s_i}-y_{d_k}}{((x_{s_i}-x_{d_k})^2+(y_{s_i}-y_{d_k})^2)^{\\frac{\\lambda }{2}}}\\right)\\\\\n",
    "=\\sum\\limits_{d_k}^{}b_P(s_i,d_k)\\\\\n",
    "\\end{align}$$\n",
    "Where the $i^{th}$ sheep moves a weighted combination away from the nearest dogs. The reason we define this $a_p,b_p$ is so that we only have to find a derivative of a few terms instead of a sum in sympy."
   ]
  },
  {
   "cell_type": "markdown",
   "metadata": {},
   "source": [
    "We also generalize the cost functional as follows:\n",
    "$$\\begin{align}\n",
    "J[u]=\\int_0^{t_f}\\alpha\\sum_{s_i}(x_{s_i}^2+y_{s_i}^2)\\\\\n",
    "+\\beta\\sum_{d_k}(x_{d_k}^2+y_{d_k}^2)+\\sum_{d_k}(u_{x_{d_k}}^2+u_{y_{d_k}}^2)dt\n",
    "\\end{align}$$\n",
    "So the Hamiltonian is thus given by:\n",
    "$$\\begin{align}\n",
    "H=p\\cdot f-L\\\\\n",
    "=\\sum_{d_k}\\left(p_{d_k}^{(1)}v_{x_{d_k}}+p_{d_k}^{(2)}v_{y_{d_k}}+p_{d_k}^{(3)}u_{x_{d_k}}+p_{d_k}^{(4)}u_{y_{d_k}}\\right)\\\\\n",
    "+\\sum_{s_i}\\left(p_{s_i}^{(1)}v_{x_{s_i}}+p_{s_i}^{(2)}v_{y_{s_i}}+p_{s_i}^{(3)}a(s_i)+p_{s_i}^{(4)}b(s_i)\\right)\\\\\n",
    "-\\alpha\\sum_{s_i}(x_{s_i}^2+y_{s_i}^2)\n",
    "-\\beta\\sum_{d_k}(x_{d_k}^2+y_{d_k}^2)-\\sum_{d_k}(u_{x_{d_k}}^2+u_{y_{d_k}}^2)\n",
    "\\end{align}$$"
   ]
  },
  {
   "cell_type": "markdown",
   "metadata": {},
   "source": [
    "Using this we can derive costate equations for our dogs and sheep. To do this note that to find $(p_{d_k}^{(1)})'$ we need to take the derivative with respect to $x_{d_k}$ and so on.\n",
    "$$\\begin{align}\n",
    "\\begin{bmatrix}\n",
    "p_{d_k}^{(1)}\\\\\n",
    "p_{d_k}^{(2)}\\\\\n",
    "p_{d_k}^{(3)}\\\\\n",
    "p_{d_k}^{(4)}\n",
    "\\end{bmatrix}'=-\\begin{bmatrix}\n",
    "\\sum_{s_i}(p_{s_i}^{(3)}\\frac{da}{dx_{d_k}}+p_{s_i}^{(4)}\\frac{db}{dx_{d_k}})-2\\beta x_{d_k}\\\\\n",
    "\\sum_{s_i}(p_{s_i}^{(3)}\\frac{da}{dy_{d_k}}+p_{s_i}^{(4)}\\frac{db}{dy_{d_k}})-2\\beta y_{d_k}\\\\\n",
    "p_{d_k}^{(1)}\\\\\n",
    "p_{d_k}^{(2)}\n",
    "\\end{bmatrix}\n",
    "\\end{align}$$\n",
    "by linearity of derivative we can further reduce the $\\frac{db}{dx_{d_k}}=\\sum_{d_k}\\frac{d}{dx_k}b_P(s_i,d_k)=\\frac{d}{dx_k}b_P(s_i,d_k)$ to get:\n",
    "$$\\begin{align}\n",
    "=-\\begin{bmatrix}\n",
    "\\sum_{s_i}(p_{s_i}^{(3)}\\frac{da_P}{dx_{d_k}}(s_i,d_k)+p_{s_i}^{(4)}\\frac{db_P}{dx_{d_k}}(s_i,d_k))-2\\beta x_{d_k}\\\\\n",
    "\\sum_{s_i}(p_{s_i}^{(3)}\\frac{da_P}{dy_{d_k}}(s_i,d_k)+p_{s_i}^{(4)}\\frac{db_P}{dy_{d_k}}(s_i,d_k))-2\\beta y_{d_k}\\\\\n",
    "p_{d_k}^{(1)}\\\\\n",
    "p_{d_k}^{(2)}\n",
    "\\end{bmatrix}\n",
    "\\end{align}$$"
   ]
  },
  {
   "cell_type": "markdown",
   "metadata": {},
   "source": [
    "And similarly for the sheep costate equations:\n",
    "$$\\begin{align}\n",
    "\\begin{bmatrix}\n",
    "p_{s_i}^{(1)}\\\\\n",
    "p_{s_i}^{(2)}\\\\\n",
    "p_{s_i}^{(3)}\\\\\n",
    "p_{s_i}^{(4)}\n",
    "\\end{bmatrix}'=-\\begin{bmatrix}\n",
    "p_{s_i}^{(3)}\\frac{da}{dx_{s_i}}(s_i)+p_{s_i}^{(4)}\\frac{db}{dx_{s_i}}(s_i)-2\\alpha x_{s_i}\\\\\n",
    "p_{s_i}^{(3)}\\frac{da}{dy_{s_i}}(s_i)+p_{s_i}^{(4)}\\frac{db}{dy_{s_i}}(s_i)-2\\alpha y_{s_i}\\\\\n",
    "p_{s_i}^{(1)}\\\\\n",
    "p_{s_i}^{(2)}\n",
    "\\end{bmatrix}\n",
    "\\end{align}$$\n",
    "when noting the linearity of the derivative $\\frac{db}{dx_{s_i}}=\\sum_{d_k}\\frac{d}{dx_{s_i}}b_P(s_i,d_k)$:\n",
    "$$\\begin{align}\n",
    "=-\\begin{bmatrix}\n",
    "p_{s_i}^{(3)}\\sum_{d_k}\\frac{d}{dx_{s_i}}a_P(s_i,d_k)+p_{s_i}^{(4)}\\sum_{d_k}\\frac{d}{dx_{s_i}}b_P(s_i,d_k)-2\\alpha x_{s_i}\\\\\n",
    "p_{s_i}^{(3)}\\sum_{d_k}\\frac{d}{dy_{s_i}}a_P(s_i,d_k)+p_{s_i}^{(4)}\\sum_{d_k}\\frac{d}{dy_{s_i}}b_P(s_i,d_k)-2\\alpha y_{s_i}\\\\\n",
    "p_{s_i}^{(1)}\\\\\n",
    "p_{s_i}^{(2)}\n",
    "\\end{bmatrix}\n",
    "\\end{align}$$"
   ]
  },
  {
   "cell_type": "markdown",
   "metadata": {},
   "source": [
    "Finally we need to find the controls. Deriving the above equation with respect to the controls we get:\n",
    "$$\\begin{align}\n",
    "\\begin{bmatrix}\n",
    "p_{d_k}^{(3)}-2u_{x_{d_k}}\\\\\n",
    "p_{d_k}^{(4)}-2u_{y_{d_k}}\n",
    "\\end{bmatrix}=0\\\\\n",
    "\\begin{bmatrix}\n",
    "u_{x_{d_k}}\\\\\n",
    "u_{y_{d_k}}\n",
    "\\end{bmatrix}=\\begin{bmatrix}\n",
    "\\frac{p_{d_k}^{(3)}}{2}\\\\\n",
    "\\frac{p_{d_k}^{(4)}}{2}\n",
    "\\end{bmatrix}\n",
    "\\end{align}$$"
   ]
  },
  {
   "cell_type": "markdown",
   "metadata": {},
   "source": [
    "Now note that we have a very large system. We have the intial positions for each of our state variables and we have the final position for each of our costate variables $p(t_f)=0$. We can substitute in the control to have the differential equation for our state and costate be completely specified. \n",
    "\n",
    "We do not compute any of the derivatives of $b_P,a_P$ by hand because we are lazy and can use sympy."
   ]
  },
  {
   "cell_type": "code",
   "execution_count": 3,
   "metadata": {},
   "outputs": [],
   "source": [
    "# Create the symbols and expression\n",
    "x_d_k, y_d_k, x_s_i, y_s_i = sp.symbols(\"x_{d_k} y_{d_k} x_{s_i} y_{s_i}\")\n",
    "lambd, alpha, beta = 3, 300, 2\n",
    "epsilon = 1e-3\n",
    "dist = sp.sqrt((x_s_i-x_d_k)**2 + (y_s_i-y_d_k)**2 + epsilon)\n",
    "a_P = (x_s_i-x_d_k)/(dist**lambd)\n",
    "b_P = (y_s_i-y_d_k)/(dist**lambd)\n",
    "# Find the derivative and lambdify it into a function\n",
    "a_pxd = sp.lambdify((x_d_k, y_d_k, x_s_i, y_s_i), sp.simplify(sp.diff(a_P, x_d_k)))\n",
    "a_pyd = sp.lambdify((x_d_k, y_d_k, x_s_i, y_s_i), sp.simplify(sp.diff(a_P, y_d_k)))\n",
    "a_pxs = sp.lambdify((x_d_k, y_d_k, x_s_i, y_s_i), sp.simplify(sp.diff(a_P, x_s_i)))\n",
    "a_pys = sp.lambdify((x_d_k, y_d_k, x_s_i, y_s_i), sp.simplify(sp.diff(a_P, y_s_i)))\n",
    "# Now for the b versions\n",
    "b_pxd = sp.lambdify((x_d_k, y_d_k, x_s_i, y_s_i), sp.simplify(sp.diff(b_P, x_d_k)))\n",
    "b_pyd = sp.lambdify((x_d_k, y_d_k, x_s_i, y_s_i), sp.simplify(sp.diff(b_P, y_d_k)))\n",
    "b_pxs = sp.lambdify((x_d_k, y_d_k, x_s_i, y_s_i), sp.simplify(sp.diff(b_P, x_s_i)))\n",
    "b_pys = sp.lambdify((x_d_k, y_d_k, x_s_i, y_s_i), sp.simplify(sp.diff(b_P, y_s_i)))\n",
    "# Lambdify the original functions as well, because we will use it later\n",
    "a_P = sp.lambdify((x_d_k, y_d_k, x_s_i, y_s_i), a_P)\n",
    "b_P = sp.lambdify((x_d_k, y_d_k, x_s_i, y_s_i), b_P)"
   ]
  },
  {
   "cell_type": "markdown",
   "metadata": {},
   "source": [
    "Following the standard from earlier. We will define our first $4D+4S$ variables to be the state variable where $D$ is the total number of Dogs and $S$ is the total number of sheep. We then define the next $4D+4S$ variables to be their corresponding costate variables."
   ]
  },
  {
   "cell_type": "code",
   "execution_count": 4,
   "metadata": {},
   "outputs": [],
   "source": [
    "S = 2\n",
    "D = 3\n",
    "def ode(t, y):    \n",
    "    state = y[:4*(D+S)]\n",
    "    costate = y[4*(D+S):]\n",
    "    state_derivs = np.zeros((4*(D+S),len(y[0])))\n",
    "    costate_derivs = np.zeros((4*(D+S),len(y[0])))\n",
    "    \n",
    "    # First get the Dog state derivatives\n",
    "    for k in range(D):\n",
    "        v_x_d = state[2+4*k]\n",
    "        v_y_d = state[3+4*k]\n",
    "        state_derivs[0+4*k] = v_x_d\n",
    "        state_derivs[1+4*k] = v_y_d\n",
    "        u_x_d = costate[2+4*k]/2\n",
    "        u_y_d = costate[3+4*k]/2\n",
    "        state_derivs[2+4*k] = u_x_d\n",
    "        state_derivs[3+4*k] = u_y_d\n",
    "        \n",
    "    # Sheep State derivatives\n",
    "    for i in range(D,D+S):\n",
    "        v_x_s = state[2+4*i]\n",
    "        v_y_s = state[3+4*i]\n",
    "        state_derivs[0+4*i] = v_x_s\n",
    "        state_derivs[1+4*i] = v_y_s\n",
    "        x_s_i = state[0+4*i]\n",
    "        y_s_i = state[1+4*i]\n",
    "        a = 0\n",
    "        b = 0\n",
    "        for k in range(D):\n",
    "            x_d_k = state[0+4*k]\n",
    "            y_d_k = state[1+4*k]\n",
    "            a += a_P(x_d_k, y_d_k, x_s_i, y_s_i)\n",
    "            b += b_P(x_d_k, y_d_k, x_s_i, y_s_i)\n",
    "        state_derivs[2+4*i] = a\n",
    "        state_derivs[3+4*i] = b\n",
    "        \n",
    "    # Costate Dogs\n",
    "    for k in range(D):\n",
    "        x_d_k = state[0+4*k]\n",
    "        y_d_k = state[1+4*k]\n",
    "        costate_1_sum = -2*beta*x_d_k\n",
    "        costate_2_sum = -2*beta*y_d_k\n",
    "        for i in range(D,D+S):\n",
    "            x_s_i = state[0+4*i]\n",
    "            y_s_i = state[1+4*i]\n",
    "            costate_1_sum += costate[2+4*i]*a_pxd(x_d_k, y_d_k, x_s_i, y_s_i) + costate[3+4*i]*b_pxd(x_d_k, y_d_k, x_s_i, y_s_i)\n",
    "            costate_2_sum += costate[2+4*i]*a_pyd(x_d_k, y_d_k, x_s_i, y_s_i) + costate[3+4*i]*b_pyd(x_d_k, y_d_k, x_s_i, y_s_i)\n",
    "        costate_derivs[0+4*k] = -costate_1_sum\n",
    "        costate_derivs[1+4*k] = -costate_2_sum\n",
    "        costate_derivs[2+4*k] = -costate[0+4*k]\n",
    "        costate_derivs[3+4*k] = -costate[1+4*k]\n",
    "    \n",
    "    # Costate Sheep\n",
    "    for i in range(D,D+S):\n",
    "        x_s_i = state[0+4*i]\n",
    "        y_s_i = state[1+4*i]\n",
    "        costate_1_sum = -2*alpha*x_s_i\n",
    "        costate_2_sum = -2*alpha*y_s_i\n",
    "        for k in range(D):\n",
    "            x_d_k = state[0+4*k]\n",
    "            y_d_k = state[1+4*k]\n",
    "            costate_1_sum += costate[2+4*i]*a_pxs(x_d_k, y_d_k, x_s_i, y_s_i) + costate[3+4*i]*b_pxs(x_d_k, y_d_k, x_s_i, y_s_i) \n",
    "            costate_2_sum += costate[2+4*i]*a_pys(x_d_k, y_d_k, x_s_i, y_s_i) + costate[3+4*i]*b_pys(x_d_k, y_d_k, x_s_i, y_s_i) \n",
    "        costate_derivs[0+4*i] = -costate_1_sum\n",
    "        costate_derivs[1+4*i] = -costate_2_sum\n",
    "        costate_derivs[2+4*i] = -costate[0+4*i]\n",
    "        costate_derivs[3+4*i] = -costate[1+4*i]\n",
    "    return np.concatenate([state_derivs, costate_derivs])\n",
    "x0 = np.random.normal(size=(4*(D+S)))\n",
    "def bc(y0, yT):\n",
    "    # Initial conditions on states\n",
    "    # x0 = np.array([1, 1, 2, 3, -1, -1, -3, 4, 0, 2, 0, 0,0,0,0,0])\n",
    "    # x0 = np.array([1, 1, 2, 3, -1, -1, -3, 4, 0, 2, 0, 0, 0, -2,0,0])\n",
    "    state_initial = y0[:4*(D+S)] - x0  # x(0) = x0\n",
    "    # Final conditions on costates\n",
    "    costate_final = yT[4*(D+S):]       # p(T) = 0\n",
    "    return np.concatenate([state_initial, costate_final])"
   ]
  },
  {
   "cell_type": "markdown",
   "metadata": {},
   "source": [
    "We simulate the system"
   ]
  },
  {
   "cell_type": "code",
   "execution_count": 5,
   "metadata": {},
   "outputs": [
    {
     "name": "stdout",
     "output_type": "stream",
     "text": [
      "   Iteration    Max residual  Max BC residual  Total nodes    Nodes added  \n",
      "       1          1.88e+03       7.08e-01          50             98       \n",
      "       2          1.50e+03       5.47e-01          148            294      \n",
      "       3          6.77e+03       4.22e-01          442            882      \n",
      "       4          2.57e+04       3.26e-01         1324          (2646)     \n",
      "Number of nodes is exceeded after iteration 4. \n",
      "Maximum relative residual: 2.57e+04 \n",
      "Maximum boundary residual: 3.26e-01\n",
      "False\n"
     ]
    }
   ],
   "source": [
    "# Time discretization\n",
    "tf = 10.0  # Total time\n",
    "num_points = 50  # Number of points in the grid\n",
    "t = np.linspace(0, tf, num_points)\n",
    "\n",
    "# Initial guess (random or based on heuristics)\n",
    "y_guess = np.ones(((D+S)*8, num_points)) # 12 state + 12 costate variables\n",
    "y_guess[:4*(D+S)] *= x0[:,None] \n",
    "y_guess[:4*(D+S)] += np.cumsum(np.cumsum(np.random.normal(size=num_points)))\n",
    "y_guess[4*(D+S):] *= 0\n",
    "y_guess[4*(D+S):] += np.cumsum(np.cumsum(np.random.normal(size=num_points)))[::-1]\n",
    "# y_guess = .5*np.random.normal(size=((D+S)*8, num_points))  # 12 state + 12 costate variables\n",
    "# Solve BVP\n",
    "solution = solve_bvp(ode, bc, t, y_guess, verbose=2, max_nodes=2000)\n",
    "\n",
    "# Extract solution\n",
    "t_solution = solution.x\n",
    "y_solution = solution.y\n",
    "print(solution.success)"
   ]
  },
  {
   "cell_type": "code",
   "execution_count": 6,
   "metadata": {},
   "outputs": [
    {
     "ename": "AttributeError",
     "evalue": "module 'numpy' has no attribute 'msax'",
     "output_type": "error",
     "traceback": [
      "\u001b[0;31m---------------------------------------------------------------------------\u001b[0m",
      "\u001b[0;31mAttributeError\u001b[0m                            Traceback (most recent call last)",
      "Cell \u001b[0;32mIn[6], line 1\u001b[0m\n\u001b[0;32m----> 1\u001b[0m \u001b[43mmake_video\u001b[49m\u001b[43m(\u001b[49m\u001b[43mt_solution\u001b[49m\u001b[43m,\u001b[49m\u001b[43m \u001b[49m\u001b[43my_solution\u001b[49m\u001b[43m,\u001b[49m\u001b[43m \u001b[49m\u001b[43mname\u001b[49m\u001b[38;5;241;43m=\u001b[39;49m\u001b[38;5;124;43m\"\u001b[39;49m\u001b[38;5;124;43m2dogs1sheep\u001b[39;49m\u001b[38;5;124;43m\"\u001b[39;49m\u001b[43m,\u001b[49m\u001b[43m \u001b[49m\u001b[43mD\u001b[49m\u001b[38;5;241;43m=\u001b[39;49m\u001b[43mD\u001b[49m\u001b[43m,\u001b[49m\u001b[43m \u001b[49m\u001b[43mS\u001b[49m\u001b[38;5;241;43m=\u001b[39;49m\u001b[43mS\u001b[49m\u001b[43m)\u001b[49m\n",
      "Cell \u001b[0;32mIn[2], line 15\u001b[0m, in \u001b[0;36mmake_video\u001b[0;34m(t_solution, y_solution, D, S, name)\u001b[0m\n\u001b[1;32m     13\u001b[0m fig, ax \u001b[38;5;241m=\u001b[39m plt\u001b[38;5;241m.\u001b[39msubplots(figsize\u001b[38;5;241m=\u001b[39m(\u001b[38;5;241m6\u001b[39m, \u001b[38;5;241m6\u001b[39m))\n\u001b[1;32m     14\u001b[0m ax\u001b[38;5;241m.\u001b[39mset_xlim(\u001b[38;5;28mmin\u001b[39m([np\u001b[38;5;241m.\u001b[39mmin(x) \u001b[38;5;28;01mfor\u001b[39;00m x \u001b[38;5;129;01min\u001b[39;00m x_coords]) \u001b[38;5;241m-\u001b[39m \u001b[38;5;241m1\u001b[39m, \u001b[38;5;28mmax\u001b[39m([np\u001b[38;5;241m.\u001b[39mmax(x) \u001b[38;5;28;01mfor\u001b[39;00m x \u001b[38;5;129;01min\u001b[39;00m x_coords]) \u001b[38;5;241m+\u001b[39m \u001b[38;5;241m1\u001b[39m)\n\u001b[0;32m---> 15\u001b[0m ax\u001b[38;5;241m.\u001b[39mset_ylim(\u001b[38;5;28mmin\u001b[39m([np\u001b[38;5;241m.\u001b[39mmin(y) \u001b[38;5;28;01mfor\u001b[39;00m y \u001b[38;5;129;01min\u001b[39;00m y_coords]) \u001b[38;5;241m-\u001b[39m \u001b[38;5;241m1\u001b[39m, \u001b[38;5;28mmax\u001b[39m([\u001b[43mnp\u001b[49m\u001b[38;5;241;43m.\u001b[39;49m\u001b[43mmsax\u001b[49m(y) \u001b[38;5;28;01mfor\u001b[39;00m y \u001b[38;5;129;01min\u001b[39;00m y_coords]) \u001b[38;5;241m+\u001b[39m \u001b[38;5;241m1\u001b[39m)\n\u001b[1;32m     16\u001b[0m ax\u001b[38;5;241m.\u001b[39mset_xlabel(\u001b[38;5;124m'\u001b[39m\u001b[38;5;124mX\u001b[39m\u001b[38;5;124m'\u001b[39m)\n\u001b[1;32m     17\u001b[0m ax\u001b[38;5;241m.\u001b[39mset_ylabel(\u001b[38;5;124m'\u001b[39m\u001b[38;5;124mY\u001b[39m\u001b[38;5;124m'\u001b[39m)\n",
      "File \u001b[0;32m~/miniconda3/envs/mainenv/lib/python3.12/site-packages/numpy/__init__.py:333\u001b[0m, in \u001b[0;36m__getattr__\u001b[0;34m(attr)\u001b[0m\n\u001b[1;32m    330\u001b[0m     \u001b[38;5;124m\"\u001b[39m\u001b[38;5;124mRemoved in NumPy 1.25.0\u001b[39m\u001b[38;5;124m\"\u001b[39m\n\u001b[1;32m    331\u001b[0m     \u001b[38;5;28;01mraise\u001b[39;00m \u001b[38;5;167;01mRuntimeError\u001b[39;00m(\u001b[38;5;124m\"\u001b[39m\u001b[38;5;124mTester was removed in NumPy 1.25.\u001b[39m\u001b[38;5;124m\"\u001b[39m)\n\u001b[0;32m--> 333\u001b[0m \u001b[38;5;28;01mraise\u001b[39;00m \u001b[38;5;167;01mAttributeError\u001b[39;00m(\u001b[38;5;124m\"\u001b[39m\u001b[38;5;124mmodule \u001b[39m\u001b[38;5;132;01m{!r}\u001b[39;00m\u001b[38;5;124m has no attribute \u001b[39m\u001b[38;5;124m\"\u001b[39m\n\u001b[1;32m    334\u001b[0m                      \u001b[38;5;124m\"\u001b[39m\u001b[38;5;132;01m{!r}\u001b[39;00m\u001b[38;5;124m\"\u001b[39m\u001b[38;5;241m.\u001b[39mformat(\u001b[38;5;18m__name__\u001b[39m, attr))\n",
      "\u001b[0;31mAttributeError\u001b[0m: module 'numpy' has no attribute 'msax'"
     ]
    },
    {
     "data": {
      "image/png": "[encoded data removed]",
      "text/plain": [
       "<Figure size 600x600 with 1 Axes>"
      ]
     },
     "metadata": {},
     "output_type": "display_data"
    }
   ],
   "source": [
    "make_video(t_solution, y_solution, name=\"2dogs1sheep\", D=D, S=S)"
   ]
  }
 ],
 "metadata": {
  "kernelspec": {
   "display_name": "mainenv",
   "language": "python",
   "name": "python3"
  },
  "language_info": {
   "codemirror_mode": {
    "name": "ipython",
    "version": 3
   },
   "file_extension": ".py",
   "mimetype": "text/x-python",
   "name": "python",
   "nbconvert_exporter": "python",
   "pygments_lexer": "ipython3",
   "version": "3.12.2"
  }
 },
 "nbformat": 4,
 "nbformat_minor": 2
}
